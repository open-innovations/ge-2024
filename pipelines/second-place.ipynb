{
 "cells": [
  {
   "cell_type": "code",
   "execution_count": 1,
   "metadata": {},
   "outputs": [
    {
     "data": {
      "text/plain": [
       "'/Users/lukestrange/Code/ge-2024'"
      ]
     },
     "execution_count": 1,
     "metadata": {},
     "output_type": "execute_result"
    }
   ],
   "source": [
    "import os\n",
    "import pandas as pd\n",
    "os.chdir('../')\n",
    "os.getcwd()"
   ]
  },
  {
   "cell_type": "code",
   "execution_count": 2,
   "metadata": {},
   "outputs": [],
   "source": [
    "def second_largest(list):\n",
    "    list.sort()\n",
    "    print(list)\n",
    "    return list[-2]"
   ]
  },
  {
   "cell_type": "code",
   "execution_count": 3,
   "metadata": {},
   "outputs": [],
   "source": [
    "path = 'src/constituency/_data/results'\n",
    "# List all the result filenames\n",
    "filenames = os.listdir(path)\n",
    "\n",
    "# make an empty df for the second place results\n",
    "second = pd.DataFrame(columns=['second_place_party_name', 'votes', 'person'])\n",
    "second.index.rename('pcon24cd', inplace=True)\n",
    "\n",
    "# iterate through each file\n",
    "for name in filenames:\n",
    "    # read the file\n",
    "    data = pd.read_json(os.path.join(path, name), dtype_backend=\"numpy_nullable\")\n",
    "    \n",
    "    # make an empty list for the vote values and party names\n",
    "    vote_vals, party_names, person_names = [], [], []\n",
    "\n",
    "    # iterate though each party and get the votes, party name and candidate\n",
    "    for i in range(len(data)):\n",
    "        votes = data['votes'].values[i]['votes']\n",
    "        party = data['votes'].values[i]['party_key']\n",
    "        person = data['votes'].values[i]['person_name']\n",
    "        vote_vals.append(votes)\n",
    "        party_names.append(party)\n",
    "        person_names.append(person)\n",
    "    # make a dataframe\n",
    "    df = pd.DataFrame(data={'second_place_party_name':party_names, 'votes': vote_vals, 'person': person_names})\n",
    "\n",
    "    # sort the frame by votes and take the second highest\n",
    "    sh_value = df.sort_values(by='votes').iloc[[-2]]\n",
    "    sh_value.index = [data['pcon24cd'][0]]\n",
    "    sh_value.index.rename('pcon24cd', inplace=True)\n",
    "\n",
    "    # concatenate all the frames into one big frame\n",
    "    second = pd.concat([second, sh_value])\n",
    "\n",
    "# write to csv\n",
    "second.to_csv('src/_data/second_place.csv')"
   ]
  }
 ],
 "metadata": {
  "kernelspec": {
   "display_name": "ge-2024-1tz6QrPC",
   "language": "python",
   "name": "python3"
  },
  "language_info": {
   "codemirror_mode": {
    "name": "ipython",
    "version": 3
   },
   "file_extension": ".py",
   "mimetype": "text/x-python",
   "name": "python",
   "nbconvert_exporter": "python",
   "pygments_lexer": "ipython3",
   "version": "3.10.14"
  }
 },
 "nbformat": 4,
 "nbformat_minor": 2
}
